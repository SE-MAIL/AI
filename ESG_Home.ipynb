{
  "nbformat": 4,
  "nbformat_minor": 0,
  "metadata": {
    "colab": {
      "name": "ESG_Home.ipynb",
      "provenance": [],
      "collapsed_sections": []
    },
    "kernelspec": {
      "name": "python3",
      "display_name": "Python 3"
    },
    "language_info": {
      "name": "python"
    },
    "accelerator": "TPU"
  },
  "cells": [
    {
      "cell_type": "code",
      "metadata": {
        "id": "6yum9hIdhtnc"
      },
      "source": [
        "import pandas as pd\n",
        "import io\n",
        "import numpy as np\n",
        "import seaborn as sns"
      ],
      "execution_count": 1,
      "outputs": []
    },
    {
      "cell_type": "code",
      "metadata": {
        "colab": {
          "base_uri": "https://localhost:8080/"
        },
        "id": "5OedDMIzfV4o",
        "outputId": "0aebd0ea-d8c3-4e82-db1d-56ad6975d921"
      },
      "source": [
        "from google.colab import drive\n",
        "drive.mount('/content/drive')"
      ],
      "execution_count": 2,
      "outputs": [
        {
          "output_type": "stream",
          "name": "stdout",
          "text": [
            "Mounted at /content/drive\n"
          ]
        }
      ]
    },
    {
      "cell_type": "code",
      "metadata": {
        "id": "zEDNYgoAhhAH"
      },
      "source": [
        "path = '/content/drive/MyDrive/2021-2 AI&SE/AI/dataset/ESG_Home.csv'"
      ],
      "execution_count": 3,
      "outputs": []
    },
    {
      "cell_type": "code",
      "metadata": {
        "colab": {
          "base_uri": "https://localhost:8080/",
          "height": 206
        },
        "id": "V1D6uBP4fX-k",
        "outputId": "cf1c912e-5af9-4588-f5d3-fcecb0f912fa"
      },
      "source": [
        "data = pd.read_csv(path)\n",
        "data.head()"
      ],
      "execution_count": 4,
      "outputs": [
        {
          "output_type": "execute_result",
          "data": {
            "text/html": [
              "<div>\n",
              "<style scoped>\n",
              "    .dataframe tbody tr th:only-of-type {\n",
              "        vertical-align: middle;\n",
              "    }\n",
              "\n",
              "    .dataframe tbody tr th {\n",
              "        vertical-align: top;\n",
              "    }\n",
              "\n",
              "    .dataframe thead th {\n",
              "        text-align: right;\n",
              "    }\n",
              "</style>\n",
              "<table border=\"1\" class=\"dataframe\">\n",
              "  <thead>\n",
              "    <tr style=\"text-align: right;\">\n",
              "      <th></th>\n",
              "      <th>gender</th>\n",
              "      <th>age</th>\n",
              "      <th>occupation</th>\n",
              "      <th>shower duration</th>\n",
              "      <th>sleeping time</th>\n",
              "      <th>shower time</th>\n",
              "      <th>month</th>\n",
              "      <th>temperature</th>\n",
              "      <th>reduction</th>\n",
              "    </tr>\n",
              "  </thead>\n",
              "  <tbody>\n",
              "    <tr>\n",
              "      <th>0</th>\n",
              "      <td>0</td>\n",
              "      <td>0</td>\n",
              "      <td>0</td>\n",
              "      <td>14</td>\n",
              "      <td>20</td>\n",
              "      <td>19</td>\n",
              "      <td>10</td>\n",
              "      <td>15.1</td>\n",
              "      <td>252</td>\n",
              "    </tr>\n",
              "    <tr>\n",
              "      <th>1</th>\n",
              "      <td>0</td>\n",
              "      <td>0</td>\n",
              "      <td>0</td>\n",
              "      <td>14</td>\n",
              "      <td>21</td>\n",
              "      <td>20</td>\n",
              "      <td>2</td>\n",
              "      <td>3.4</td>\n",
              "      <td>252</td>\n",
              "    </tr>\n",
              "    <tr>\n",
              "      <th>2</th>\n",
              "      <td>0</td>\n",
              "      <td>0</td>\n",
              "      <td>0</td>\n",
              "      <td>13</td>\n",
              "      <td>21</td>\n",
              "      <td>19</td>\n",
              "      <td>11</td>\n",
              "      <td>8.5</td>\n",
              "      <td>234</td>\n",
              "    </tr>\n",
              "    <tr>\n",
              "      <th>3</th>\n",
              "      <td>0</td>\n",
              "      <td>0</td>\n",
              "      <td>0</td>\n",
              "      <td>11</td>\n",
              "      <td>22</td>\n",
              "      <td>20</td>\n",
              "      <td>2</td>\n",
              "      <td>3.4</td>\n",
              "      <td>198</td>\n",
              "    </tr>\n",
              "    <tr>\n",
              "      <th>4</th>\n",
              "      <td>0</td>\n",
              "      <td>0</td>\n",
              "      <td>0</td>\n",
              "      <td>11</td>\n",
              "      <td>20</td>\n",
              "      <td>18</td>\n",
              "      <td>9</td>\n",
              "      <td>21.3</td>\n",
              "      <td>198</td>\n",
              "    </tr>\n",
              "  </tbody>\n",
              "</table>\n",
              "</div>"
            ],
            "text/plain": [
              "   gender  age  occupation  ...  month  temperature  reduction\n",
              "0       0    0           0  ...     10         15.1        252\n",
              "1       0    0           0  ...      2          3.4        252\n",
              "2       0    0           0  ...     11          8.5        234\n",
              "3       0    0           0  ...      2          3.4        198\n",
              "4       0    0           0  ...      9         21.3        198\n",
              "\n",
              "[5 rows x 9 columns]"
            ]
          },
          "metadata": {},
          "execution_count": 4
        }
      ]
    },
    {
      "cell_type": "code",
      "metadata": {
        "colab": {
          "base_uri": "https://localhost:8080/"
        },
        "id": "NMi20I-PNAC2",
        "outputId": "4eda8a3c-6706-4dad-a21e-3cfc3d7e5e15"
      },
      "source": [
        "data.info()"
      ],
      "execution_count": 5,
      "outputs": [
        {
          "output_type": "stream",
          "name": "stdout",
          "text": [
            "<class 'pandas.core.frame.DataFrame'>\n",
            "RangeIndex: 49028 entries, 0 to 49027\n",
            "Data columns (total 9 columns):\n",
            " #   Column           Non-Null Count  Dtype  \n",
            "---  ------           --------------  -----  \n",
            " 0   gender           49028 non-null  int64  \n",
            " 1   age              49028 non-null  int64  \n",
            " 2   occupation       49028 non-null  int64  \n",
            " 3   shower duration  49028 non-null  int64  \n",
            " 4   sleeping time    49028 non-null  int64  \n",
            " 5   shower time      49028 non-null  int64  \n",
            " 6   month            49028 non-null  int64  \n",
            " 7   temperature      49028 non-null  float64\n",
            " 8   reduction        49028 non-null  int64  \n",
            "dtypes: float64(1), int64(8)\n",
            "memory usage: 3.4 MB\n"
          ]
        }
      ]
    },
    {
      "cell_type": "code",
      "metadata": {
        "colab": {
          "base_uri": "https://localhost:8080/",
          "height": 331
        },
        "id": "GkDghm0VEolG",
        "outputId": "eae72a0c-2221-4b91-d189-3523cfac5a74"
      },
      "source": [
        "data.corr()"
      ],
      "execution_count": 6,
      "outputs": [
        {
          "output_type": "execute_result",
          "data": {
            "text/html": [
              "<div>\n",
              "<style scoped>\n",
              "    .dataframe tbody tr th:only-of-type {\n",
              "        vertical-align: middle;\n",
              "    }\n",
              "\n",
              "    .dataframe tbody tr th {\n",
              "        vertical-align: top;\n",
              "    }\n",
              "\n",
              "    .dataframe thead th {\n",
              "        text-align: right;\n",
              "    }\n",
              "</style>\n",
              "<table border=\"1\" class=\"dataframe\">\n",
              "  <thead>\n",
              "    <tr style=\"text-align: right;\">\n",
              "      <th></th>\n",
              "      <th>gender</th>\n",
              "      <th>age</th>\n",
              "      <th>occupation</th>\n",
              "      <th>shower duration</th>\n",
              "      <th>sleeping time</th>\n",
              "      <th>shower time</th>\n",
              "      <th>month</th>\n",
              "      <th>temperature</th>\n",
              "      <th>reduction</th>\n",
              "    </tr>\n",
              "  </thead>\n",
              "  <tbody>\n",
              "    <tr>\n",
              "      <th>gender</th>\n",
              "      <td>1.000000</td>\n",
              "      <td>0.026882</td>\n",
              "      <td>0.011564</td>\n",
              "      <td>0.591143</td>\n",
              "      <td>-0.014007</td>\n",
              "      <td>-0.013839</td>\n",
              "      <td>-0.002892</td>\n",
              "      <td>-0.003229</td>\n",
              "      <td>0.746108</td>\n",
              "    </tr>\n",
              "    <tr>\n",
              "      <th>age</th>\n",
              "      <td>0.026882</td>\n",
              "      <td>1.000000</td>\n",
              "      <td>0.658547</td>\n",
              "      <td>0.131954</td>\n",
              "      <td>0.265023</td>\n",
              "      <td>0.263132</td>\n",
              "      <td>0.003362</td>\n",
              "      <td>0.004449</td>\n",
              "      <td>-0.301393</td>\n",
              "    </tr>\n",
              "    <tr>\n",
              "      <th>occupation</th>\n",
              "      <td>0.011564</td>\n",
              "      <td>0.658547</td>\n",
              "      <td>1.000000</td>\n",
              "      <td>-0.066770</td>\n",
              "      <td>0.454868</td>\n",
              "      <td>0.453598</td>\n",
              "      <td>0.001817</td>\n",
              "      <td>0.003609</td>\n",
              "      <td>-0.096643</td>\n",
              "    </tr>\n",
              "    <tr>\n",
              "      <th>shower duration</th>\n",
              "      <td>0.591143</td>\n",
              "      <td>0.131954</td>\n",
              "      <td>-0.066770</td>\n",
              "      <td>1.000000</td>\n",
              "      <td>-0.248066</td>\n",
              "      <td>-0.249130</td>\n",
              "      <td>-0.005199</td>\n",
              "      <td>-0.005753</td>\n",
              "      <td>0.418175</td>\n",
              "    </tr>\n",
              "    <tr>\n",
              "      <th>sleeping time</th>\n",
              "      <td>-0.014007</td>\n",
              "      <td>0.265023</td>\n",
              "      <td>0.454868</td>\n",
              "      <td>-0.248066</td>\n",
              "      <td>1.000000</td>\n",
              "      <td>0.996131</td>\n",
              "      <td>0.002320</td>\n",
              "      <td>0.006955</td>\n",
              "      <td>0.189581</td>\n",
              "    </tr>\n",
              "    <tr>\n",
              "      <th>shower time</th>\n",
              "      <td>-0.013839</td>\n",
              "      <td>0.263132</td>\n",
              "      <td>0.453598</td>\n",
              "      <td>-0.249130</td>\n",
              "      <td>0.996131</td>\n",
              "      <td>1.000000</td>\n",
              "      <td>0.002482</td>\n",
              "      <td>0.006616</td>\n",
              "      <td>0.190153</td>\n",
              "    </tr>\n",
              "    <tr>\n",
              "      <th>month</th>\n",
              "      <td>-0.002892</td>\n",
              "      <td>0.003362</td>\n",
              "      <td>0.001817</td>\n",
              "      <td>-0.005199</td>\n",
              "      <td>0.002320</td>\n",
              "      <td>0.002482</td>\n",
              "      <td>1.000000</td>\n",
              "      <td>0.238787</td>\n",
              "      <td>-0.002046</td>\n",
              "    </tr>\n",
              "    <tr>\n",
              "      <th>temperature</th>\n",
              "      <td>-0.003229</td>\n",
              "      <td>0.004449</td>\n",
              "      <td>0.003609</td>\n",
              "      <td>-0.005753</td>\n",
              "      <td>0.006955</td>\n",
              "      <td>0.006616</td>\n",
              "      <td>0.238787</td>\n",
              "      <td>1.000000</td>\n",
              "      <td>-0.000788</td>\n",
              "    </tr>\n",
              "    <tr>\n",
              "      <th>reduction</th>\n",
              "      <td>0.746108</td>\n",
              "      <td>-0.301393</td>\n",
              "      <td>-0.096643</td>\n",
              "      <td>0.418175</td>\n",
              "      <td>0.189581</td>\n",
              "      <td>0.190153</td>\n",
              "      <td>-0.002046</td>\n",
              "      <td>-0.000788</td>\n",
              "      <td>1.000000</td>\n",
              "    </tr>\n",
              "  </tbody>\n",
              "</table>\n",
              "</div>"
            ],
            "text/plain": [
              "                   gender       age  ...  temperature  reduction\n",
              "gender           1.000000  0.026882  ...    -0.003229   0.746108\n",
              "age              0.026882  1.000000  ...     0.004449  -0.301393\n",
              "occupation       0.011564  0.658547  ...     0.003609  -0.096643\n",
              "shower duration  0.591143  0.131954  ...    -0.005753   0.418175\n",
              "sleeping time   -0.014007  0.265023  ...     0.006955   0.189581\n",
              "shower time     -0.013839  0.263132  ...     0.006616   0.190153\n",
              "month           -0.002892  0.003362  ...     0.238787  -0.002046\n",
              "temperature     -0.003229  0.004449  ...     1.000000  -0.000788\n",
              "reduction        0.746108 -0.301393  ...    -0.000788   1.000000\n",
              "\n",
              "[9 rows x 9 columns]"
            ]
          },
          "metadata": {},
          "execution_count": 6
        }
      ]
    },
    {
      "cell_type": "code",
      "metadata": {
        "colab": {
          "base_uri": "https://localhost:8080/"
        },
        "id": "5QvQKk5chBZO",
        "outputId": "74f34667-55ac-45eb-e285-7c28e662d1a9"
      },
      "source": [
        "data['reduction'].value_counts()"
      ],
      "execution_count": 7,
      "outputs": [
        {
          "output_type": "execute_result",
          "data": {
            "text/plain": [
              "240    2865\n",
              "48     2497\n",
              "36     2460\n",
              "360    2414\n",
              "60     2367\n",
              "       ... \n",
              "108     149\n",
              "138     141\n",
              "96      141\n",
              "156     140\n",
              "162     132\n",
              "Name: reduction, Length: 61, dtype: int64"
            ]
          },
          "metadata": {},
          "execution_count": 7
        }
      ]
    },
    {
      "cell_type": "markdown",
      "metadata": {
        "id": "Mfkzu_qDp3bq"
      },
      "source": [
        "## Main Analysis"
      ]
    },
    {
      "cell_type": "code",
      "metadata": {
        "id": "PVGcSmQ_FKC7"
      },
      "source": [
        "import matplotlib.pyplot as plt\n",
        "import seaborn as sns\n",
        "fig = plt.figure(figsize=(10,6))\n",
        "%matplotlib inline"
      ],
      "execution_count": null,
      "outputs": []
    },
    {
      "cell_type": "code",
      "metadata": {
        "colab": {
          "base_uri": "https://localhost:8080/",
          "height": 297
        },
        "id": "-N-NzSmSlc5P",
        "outputId": "37f1ebc6-df32-44d9-d31d-693fe1e5e340"
      },
      "source": [
        "sns.barplot(x='gender', y='shower duration', data=data)"
      ],
      "execution_count": null,
      "outputs": [
        {
          "output_type": "execute_result",
          "data": {
            "text/plain": [
              "<matplotlib.axes._subplots.AxesSubplot at 0x7f63ebd82590>"
            ]
          },
          "metadata": {},
          "execution_count": 9
        },
        {
          "output_type": "display_data",
          "data": {
            "image/png": "[encoded data removed]",
            "text/plain": [
              "<Figure size 432x288 with 1 Axes>"
            ]
          },
          "metadata": {
            "needs_background": "light"
          }
        }
      ]
    },
    {
      "cell_type": "code",
      "metadata": {
        "colab": {
          "base_uri": "https://localhost:8080/",
          "height": 283
        },
        "id": "W63eqR3iFRFc",
        "outputId": "86f05b39-b76e-4bc7-fd38-cb9286e418c9"
      },
      "source": [
        "x = data.age\n",
        "y = data.reduction\n",
        "\n",
        "plt.scatter(x,y)"
      ],
      "execution_count": null,
      "outputs": [
        {
          "output_type": "execute_result",
          "data": {
            "text/plain": [
              "<matplotlib.collections.PathCollection at 0x7f3ac92d4150>"
            ]
          },
          "metadata": {},
          "execution_count": 15
        },
        {
          "output_type": "display_data",
          "data": {
            "image/png": "[encoded data removed]",
            "text/plain": [
              "<Figure size 432x288 with 1 Axes>"
            ]
          },
          "metadata": {
            "needs_background": "light"
          }
        }
      ]
    },
    {
      "cell_type": "code",
      "metadata": {
        "id": "YBc4S65-moLg"
      },
      "source": [
        "X = data.drop(['reduction'], axis=1)\n",
        "y = data['reduction']"
      ],
      "execution_count": 8,
      "outputs": []
    },
    {
      "cell_type": "code",
      "metadata": {
        "colab": {
          "base_uri": "https://localhost:8080/"
        },
        "id": "XDPZJ9PdlU-p",
        "outputId": "73f58f4c-e954-41e5-88e2-dda7d58fa063"
      },
      "source": [
        "from sklearn.model_selection import train_test_split\n",
        "\n",
        "X_train_all, X_test, y_train_all, y_test = train_test_split(X, y, test_size=0.2, random_state=13)\n",
        "print(X_train_all.shape) \n",
        "print(X_test.shape)\n",
        "print(y_train_all.shape)\n",
        "print(y_test.shape)"
      ],
      "execution_count": 9,
      "outputs": [
        {
          "output_type": "stream",
          "name": "stdout",
          "text": [
            "(39222, 8)\n",
            "(9806, 8)\n",
            "(39222,)\n",
            "(9806,)\n"
          ]
        }
      ]
    },
    {
      "cell_type": "code",
      "metadata": {
        "colab": {
          "base_uri": "https://localhost:8080/"
        },
        "id": "Ch3UqfqHs_W6",
        "outputId": "ecee851c-c161-4ec3-93be-051f6069ae04"
      },
      "source": [
        "X_train, X_val, y_train, y_val = train_test_split(X_train_all, y_train_all, test_size=0.2, random_state=13)\n",
        "print(X_train.shape) \n",
        "print(X_val.shape)\n",
        "print(y_train.shape)\n",
        "print(y_val.shape)"
      ],
      "execution_count": 10,
      "outputs": [
        {
          "output_type": "stream",
          "name": "stdout",
          "text": [
            "(31377, 8)\n",
            "(7845, 8)\n",
            "(31377,)\n",
            "(7845,)\n"
          ]
        }
      ]
    },
    {
      "cell_type": "code",
      "metadata": {
        "id": "Nc78ETOyD4vI"
      },
      "source": [
        "from sklearn.preprocessing import StandardScaler\n",
        "\n",
        "scaler = StandardScaler()\n",
        "X_train = scaler.fit_transform(X_train)\n",
        "X_test = scaler.transform(X_test)\n",
        "X_val = scaler.transform(X_val)"
      ],
      "execution_count": 11,
      "outputs": []
    },
    {
      "cell_type": "code",
      "metadata": {
        "id": "Dj7h4ePyGV6m"
      },
      "source": [
        "from sklearn.metrics import r2_score, mean_absolute_error, mean_squared_error"
      ],
      "execution_count": 12,
      "outputs": []
    },
    {
      "cell_type": "markdown",
      "metadata": {
        "id": "zLxDrSGftrQ8"
      },
      "source": [
        "#Linear Regression"
      ]
    },
    {
      "cell_type": "code",
      "metadata": {
        "id": "_KeAKe_4tpr0"
      },
      "source": [
        "from sklearn.linear_model import LinearRegression\n",
        "linr = LinearRegression()\n",
        "linr.fit(X_train, y_train)\n",
        "y_pred_linr = linr.predict(X_test)"
      ],
      "execution_count": null,
      "outputs": []
    },
    {
      "cell_type": "code",
      "metadata": {
        "id": "md1jOWWCumLJ",
        "colab": {
          "base_uri": "https://localhost:8080/"
        },
        "outputId": "b4ab0c3e-e5c5-44c7-8f08-690a32beb748"
      },
      "source": [
        "print('Linear Regression performance result')\n",
        "print('--------------------------------------------')\n",
        "print('r2 score :', r2_score(y_test,y_pred_linr))\n",
        "print('MAE score :', mean_absolute_error(y_test,y_pred_linr))\n",
        "print('RMSE score :', np.sqrt(mean_squared_error(y_test,y_pred_linr)))"
      ],
      "execution_count": null,
      "outputs": [
        {
          "output_type": "stream",
          "name": "stdout",
          "text": [
            "Linear Regression performance result\n",
            "--------------------------------------------\n",
            "r2 score : 0.7712810353322093\n",
            "MAE score : 45.71471893459646\n",
            "RMSE score : 56.517131108962985\n"
          ]
        }
      ]
    },
    {
      "cell_type": "code",
      "metadata": {
        "colab": {
          "base_uri": "https://localhost:8080/"
        },
        "id": "v3ZPn0s2YbpH",
        "outputId": "66d72aaa-10c7-4c93-ba11-b0c3d6a0bf8e"
      },
      "source": [
        "linr.coef_"
      ],
      "execution_count": null,
      "outputs": [
        {
          "output_type": "execute_result",
          "data": {
            "text/plain": [
              "array([ 76.55176552, -56.19668381,   8.13177591,  21.67010295,\n",
              "        23.37373377,  16.53651045,  -0.16411968,   0.2885103 ])"
            ]
          },
          "metadata": {},
          "execution_count": 34
        }
      ]
    },
    {
      "cell_type": "markdown",
      "metadata": {
        "id": "H03Cm7nR0NKb"
      },
      "source": [
        "# SGD Regression"
      ]
    },
    {
      "cell_type": "code",
      "metadata": {
        "colab": {
          "base_uri": "https://localhost:8080/",
          "height": 226
        },
        "id": "j-sZPQUJ0Mwl",
        "outputId": "366e159f-c3e5-419e-942b-413b8e466515"
      },
      "source": [
        "from sklearn.linear_model import SGDRegressor\n",
        "sgd = SGDRegressor(random_state=13, penalty='l1')\n",
        "sgd.fit(X_train, y_train)\n",
        "y_pred_sgd = sgd.predict(X_test)"
      ],
      "execution_count": null,
      "outputs": [
        {
          "output_type": "error",
          "ename": "NameError",
          "evalue": "ignored",
          "traceback": [
            "\u001b[0;31m---------------------------------------------------------------------------\u001b[0m",
            "\u001b[0;31mNameError\u001b[0m                                 Traceback (most recent call last)",
            "\u001b[0;32m<ipython-input-1-70ad17b7aa05>\u001b[0m in \u001b[0;36m<module>\u001b[0;34m()\u001b[0m\n\u001b[1;32m      1\u001b[0m \u001b[0;32mfrom\u001b[0m \u001b[0msklearn\u001b[0m\u001b[0;34m.\u001b[0m\u001b[0mlinear_model\u001b[0m \u001b[0;32mimport\u001b[0m \u001b[0mSGDRegressor\u001b[0m\u001b[0;34m\u001b[0m\u001b[0;34m\u001b[0m\u001b[0m\n\u001b[1;32m      2\u001b[0m \u001b[0msgd\u001b[0m \u001b[0;34m=\u001b[0m \u001b[0mSGDRegressor\u001b[0m\u001b[0;34m(\u001b[0m\u001b[0mrandom_state\u001b[0m\u001b[0;34m=\u001b[0m\u001b[0;36m13\u001b[0m\u001b[0;34m,\u001b[0m \u001b[0mpenalty\u001b[0m\u001b[0;34m=\u001b[0m\u001b[0;34m'l1'\u001b[0m\u001b[0;34m)\u001b[0m\u001b[0;34m\u001b[0m\u001b[0;34m\u001b[0m\u001b[0m\n\u001b[0;32m----> 3\u001b[0;31m \u001b[0msgd\u001b[0m\u001b[0;34m.\u001b[0m\u001b[0mfit\u001b[0m\u001b[0;34m(\u001b[0m\u001b[0mX_train\u001b[0m\u001b[0;34m,\u001b[0m \u001b[0my_train\u001b[0m\u001b[0;34m)\u001b[0m\u001b[0;34m\u001b[0m\u001b[0;34m\u001b[0m\u001b[0m\n\u001b[0m\u001b[1;32m      4\u001b[0m \u001b[0my_pred_sgd\u001b[0m \u001b[0;34m=\u001b[0m \u001b[0msgd\u001b[0m\u001b[0;34m.\u001b[0m\u001b[0mpredict\u001b[0m\u001b[0;34m(\u001b[0m\u001b[0mX_test\u001b[0m\u001b[0;34m)\u001b[0m\u001b[0;34m\u001b[0m\u001b[0;34m\u001b[0m\u001b[0m\n",
            "\u001b[0;31mNameError\u001b[0m: name 'X_train' is not defined"
          ]
        }
      ]
    },
    {
      "cell_type": "code",
      "metadata": {
        "id": "KwQ2d6JH066u"
      },
      "source": [
        "print('SGD Regression performance result')\n",
        "print('--------------------------------------------')\n",
        "print('r2 score :', r2_score(y_test,y_pred_sgd))\n",
        "print('MAE score :',mean_absolute_error(y_test,y_pred_sgd))\n",
        "print('RMSE score :',np.sqrt(mean_squared_error(y_test,y_pred_sgd)))"
      ],
      "execution_count": null,
      "outputs": []
    },
    {
      "cell_type": "markdown",
      "metadata": {
        "id": "-jAgeC5e57H5"
      },
      "source": [
        "# Logistic Regression"
      ]
    },
    {
      "cell_type": "code",
      "metadata": {
        "id": "3IhOf-51E-uY"
      },
      "source": [
        "from sklearn.linear_model import LogisticRegression\n",
        "\n",
        "logr = LogisticRegression(random_state=13, max_iter=2000, dual=False)\n",
        "logr.fit(X_train, y_train)\n",
        "y_pred_logr = logr.predict(X_test)"
      ],
      "execution_count": null,
      "outputs": []
    },
    {
      "cell_type": "code",
      "metadata": {
        "colab": {
          "base_uri": "https://localhost:8080/"
        },
        "id": "8shfB65D-rWL",
        "outputId": "03ddb18f-1ed6-4399-86a6-40b8ed30c072"
      },
      "source": [
        "print('Logistic Regression performance result')\n",
        "print('--------------------------------------------')\n",
        "print('r2 score :', r2_score(y_test,y_pred_logr))\n",
        "print('MAE score :',mean_absolute_error(y_test,y_pred_logr))\n",
        "print('RMSE score :',np.sqrt(mean_squared_error(y_test,y_pred_logr)))"
      ],
      "execution_count": null,
      "outputs": [
        {
          "output_type": "stream",
          "name": "stdout",
          "text": [
            "Logistic Regression performance result\n",
            "--------------------------------------------\n",
            "r2 score : 0.80299867007376\n",
            "MAE score : 35.09137262900265\n",
            "RMSE score : 52.452186787944754\n"
          ]
        }
      ]
    },
    {
      "cell_type": "code",
      "metadata": {
        "colab": {
          "base_uri": "https://localhost:8080/"
        },
        "id": "zwqOztPLq7J0",
        "outputId": "9afda405-fed1-4d72-95e7-51269c728ea0"
      },
      "source": [
        "logr.coef_[0]"
      ],
      "execution_count": null,
      "outputs": [
        {
          "output_type": "execute_result",
          "data": {
            "text/plain": [
              "array([ 7.16608350e-03,  9.95905850e+00,  6.13769687e-01, -4.02929707e+01,\n",
              "       -3.90946105e+00, -3.41704285e+00,  3.59444307e-02,  8.95563961e-03])"
            ]
          },
          "metadata": {},
          "execution_count": 21
        }
      ]
    },
    {
      "cell_type": "code",
      "metadata": {
        "id": "uI5kJFhPZy1Q",
        "colab": {
          "base_uri": "https://localhost:8080/",
          "height": 265
        },
        "outputId": "56c48b60-6d44-478e-db50-236bdaefdd97"
      },
      "source": [
        "import math\n",
        "w0 = logr.intercept_[0]\n",
        "w = w1, w2, w3, w4, w5, w6, w7, w8 = logr.coef_[0]\n",
        "feature_names = [\"gender\", \"age\", \"occupation\", \"shower duration\", \"sleeping time\", \"shower time\", \"month\",\t\"temperature\"]\n",
        "feature_imp = pd.DataFrame(feature_names, columns=[\"feature\"])\n",
        "feature_imp[\"importance\"] = pow(math.e, w)\n",
        "feature_imp = feature_imp.sort_values(by=[\"importance\"], ascending=False)\n",
        "ax=feature_imp.plot.barh(x='feature', y='importance')"
      ],
      "execution_count": null,
      "outputs": [
        {
          "output_type": "display_data",
          "data": {
            "image/png": "[encoded data removed]",
            "text/plain": [
              "<Figure size 432x288 with 1 Axes>"
            ]
          },
          "metadata": {
            "needs_background": "light"
          }
        }
      ]
    },
    {
      "cell_type": "markdown",
      "metadata": {
        "id": "8uNRI8di3RGS"
      },
      "source": [
        "# RandomForest Regression"
      ]
    },
    {
      "cell_type": "code",
      "metadata": {
        "id": "F7Cq5FaI3Uhf"
      },
      "source": [
        "from sklearn.ensemble import RandomForestRegressor\n",
        "rfr = RandomForestRegressor(random_state=13)\n",
        "rfr.fit(X_train, y_train)\n",
        "y_pred_rfr = rfr.predict(X_test)"
      ],
      "execution_count": 13,
      "outputs": []
    },
    {
      "cell_type": "code",
      "metadata": {
        "colab": {
          "base_uri": "https://localhost:8080/"
        },
        "id": "HwgFMm8E3qa4",
        "outputId": "1a08e836-701d-4fed-cd8b-b840a1ffe0fc"
      },
      "source": [
        "print('RandomForest Regression performance result')\n",
        "print('--------------------------------------------')\n",
        "print('r2 score :', r2_score(y_test,y_pred_rfr))\n",
        "print('MAE score :',mean_absolute_error(y_test,y_pred_rfr))\n",
        "print('RMSE score :',np.sqrt(mean_squared_error(y_test,y_pred_rfr)))"
      ],
      "execution_count": 14,
      "outputs": [
        {
          "output_type": "stream",
          "name": "stdout",
          "text": [
            "RandomForest Regression performance result\n",
            "--------------------------------------------\n",
            "r2 score : 1.0\n",
            "MAE score : 0.0\n",
            "RMSE score : 0.0\n"
          ]
        }
      ]
    },
    {
      "cell_type": "code",
      "source": [
        "feature_imp = pd.Series(rfr.feature_importances_, index=X.columns).sort_values(ascending=False)\n",
        "\n",
        "import seaborn as sns\n",
        "import matplotlib.pyplot as plt\n",
        "%matplotlib inline\n",
        "\n",
        "sns.barplot(x=feature_imp, y=feature_imp.index)\n",
        "\n",
        "plt.xlabel('Feature Importance Score')\n",
        "plt.ylabel('Features')\n",
        "plt.title(\"Visualizing Important Features\")\n",
        "plt.legend()\n",
        "plt.show()"
      ],
      "metadata": {
        "colab": {
          "base_uri": "https://localhost:8080/",
          "height": 313
        },
        "id": "R-inmGOBAYr7",
        "outputId": "18c00473-77f9-4317-cff6-9bdfebedf357"
      },
      "execution_count": 15,
      "outputs": [
        {
          "output_type": "stream",
          "name": "stderr",
          "text": [
            "No handles with labels found to put in legend.\n"
          ]
        },
        {
          "output_type": "display_data",
          "data": {
            "image/png": "[encoded data removed]",
            "text/plain": [
              "<Figure size 432x288 with 1 Axes>"
            ]
          },
          "metadata": {
            "needs_background": "light"
          }
        }
      ]
    },
    {
      "cell_type": "code",
      "source": [
        "import matplotlib.pyplot as plt\n",
        "plt.rcParams[\"figure.figsize\"] = (10, 5)\n",
        "epochs = range(len(y_test))\n",
        "\n",
        "plt.plot(epochs, y_test, 'r', label='real')\n",
        "plt.plot(epochs, y_pred_rfr, 'b', label='predict')\n",
        "\n",
        "plt.title('Prediction vs Real')\n",
        "plt. legend()\n",
        "\n",
        "plt.figure()\n",
        "\n",
        "plt.show()"
      ],
      "metadata": {
        "colab": {
          "base_uri": "https://localhost:8080/",
          "height": 354
        },
        "id": "aiyOAI9MDTyV",
        "outputId": "5cd120a8-f522-44c4-cff1-6d3cec6a11f4"
      },
      "execution_count": 22,
      "outputs": [
        {
          "output_type": "display_data",
          "data": {
            "image/png": "[encoded data removed]",
            "text/plain": [
              "<Figure size 720x360 with 1 Axes>"
            ]
          },
          "metadata": {
            "needs_background": "light"
          }
        },
        {
          "output_type": "display_data",
          "data": {
            "text/plain": [
              "<Figure size 720x360 with 0 Axes>"
            ]
          },
          "metadata": {}
        }
      ]
    },
    {
      "cell_type": "markdown",
      "metadata": {
        "id": "xuxUyJHD4EQg"
      },
      "source": [
        "# ExtraTree Regression"
      ]
    },
    {
      "cell_type": "code",
      "metadata": {
        "id": "B3-TY5Nt4He5"
      },
      "source": [
        "from sklearn.ensemble import ExtraTreesRegressor\n",
        "etr = ExtraTreesRegressor(random_state = 13)\n",
        "etr.fit(X_train, y_train)\n",
        "y_pred_etr = etr.predict(X_test)"
      ],
      "execution_count": 17,
      "outputs": []
    },
    {
      "cell_type": "code",
      "metadata": {
        "colab": {
          "base_uri": "https://localhost:8080/"
        },
        "id": "F61P4Len4afu",
        "outputId": "e68b1e6f-5a80-4fe1-efe8-12dfb893ffdd"
      },
      "source": [
        "print('ExtraTree Regression performance result')\n",
        "print('--------------------------------------------')\n",
        "print('r2 score :', r2_score(y_test,y_pred_etr))\n",
        "print('MAE score :',mean_absolute_error(y_test,y_pred_etr))\n",
        "print('RMSE score :',np.sqrt(mean_squared_error(y_test,y_pred_etr)))"
      ],
      "execution_count": 18,
      "outputs": [
        {
          "output_type": "stream",
          "name": "stdout",
          "text": [
            "ExtraTree Regression performance result\n",
            "--------------------------------------------\n",
            "r2 score : 1.0\n",
            "MAE score : 0.0\n",
            "RMSE score : 0.0\n"
          ]
        }
      ]
    },
    {
      "cell_type": "code",
      "source": [
        "feature_imp = pd.Series(etr.feature_importances_, index=X.columns).sort_values(ascending=False)\n",
        "\n",
        "import seaborn as sns\n",
        "import matplotlib.pyplot as plt\n",
        "%matplotlib inline\n",
        "\n",
        "sns.barplot(x=feature_imp, y=feature_imp.index)\n",
        "\n",
        "plt.xlabel('Feature Importance Score')\n",
        "plt.ylabel('Features')\n",
        "plt.title(\"Visualizing Important Features\")\n",
        "plt.legend()\n",
        "plt.show()"
      ],
      "metadata": {
        "colab": {
          "base_uri": "https://localhost:8080/",
          "height": 313
        },
        "id": "uumtjc4QALky",
        "outputId": "bebdd024-c97d-4dc0-b6fb-a2bafbaa94c3"
      },
      "execution_count": 19,
      "outputs": [
        {
          "output_type": "stream",
          "name": "stderr",
          "text": [
            "No handles with labels found to put in legend.\n"
          ]
        },
        {
          "output_type": "display_data",
          "data": {
            "image/png": "[encoded data removed]",
            "text/plain": [
              "<Figure size 432x288 with 1 Axes>"
            ]
          },
          "metadata": {
            "needs_background": "light"
          }
        }
      ]
    },
    {
      "cell_type": "code",
      "source": [
        "import matplotlib.pyplot as plt\n",
        "plt.rcParams[\"figure.figsize\"] = (10, 5)\n",
        "epochs = range(len(y_test))\n",
        "\n",
        "plt.plot(epochs, y_test, 'r', label='real')\n",
        "plt.plot(epochs, y_pred_etr, 'b', label='predict')\n",
        "\n",
        "plt.title('Prediction vs Real')\n",
        "plt. legend()\n",
        "\n",
        "plt.figure()\n",
        "\n",
        "plt.show()"
      ],
      "metadata": {
        "colab": {
          "base_uri": "https://localhost:8080/",
          "height": 354
        },
        "id": "t1W5pjDPDZ0b",
        "outputId": "78d27ced-5994-4e7b-e8c9-112ab7f9b44a"
      },
      "execution_count": 24,
      "outputs": [
        {
          "output_type": "display_data",
          "data": {
            "image/png": "[encoded data removed]",
            "text/plain": [
              "<Figure size 720x360 with 1 Axes>"
            ]
          },
          "metadata": {
            "needs_background": "light"
          }
        },
        {
          "output_type": "display_data",
          "data": {
            "text/plain": [
              "<Figure size 720x360 with 0 Axes>"
            ]
          },
          "metadata": {}
        }
      ]
    },
    {
      "cell_type": "markdown",
      "metadata": {
        "id": "cLLrqxgq42kd"
      },
      "source": [
        "# GradientBoosting Regression"
      ]
    },
    {
      "cell_type": "code",
      "metadata": {
        "id": "zFIbBhfP471-"
      },
      "source": [
        "from sklearn.ensemble import GradientBoostingRegressor\n",
        "gbr = GradientBoostingRegressor(random_state=13)\n",
        "gbr.fit(X_train, y_train)\n",
        "y_pred_gbr = gbr.predict(X_test)"
      ],
      "execution_count": null,
      "outputs": []
    },
    {
      "cell_type": "code",
      "metadata": {
        "colab": {
          "base_uri": "https://localhost:8080/"
        },
        "id": "F4R5eF_w5XfS",
        "outputId": "3a58416b-018f-48b1-fe68-8f06e28013ee"
      },
      "source": [
        "print('GradientBoosting Regression performance result')\n",
        "print('--------------------------------------------')\n",
        "print('r2 score :', r2_score(y_test,y_pred_gbr))\n",
        "print('MAE score :',mean_absolute_error(y_test,y_pred_gbr))\n",
        "print('RMSE score :',np.sqrt(mean_squared_error(y_test,y_pred_gbr)))"
      ],
      "execution_count": null,
      "outputs": [
        {
          "output_type": "stream",
          "name": "stdout",
          "text": [
            "GradientBoosting Regression performance result\n",
            "--------------------------------------------\n",
            "r2 score : 0.9928942096298268\n",
            "MAE score : 5.583752736760537\n",
            "RMSE score : 9.961740301130831\n"
          ]
        }
      ]
    },
    {
      "cell_type": "markdown",
      "metadata": {
        "id": "txLzjWVgsKcl"
      },
      "source": [
        "# AdaBoost Regression"
      ]
    },
    {
      "cell_type": "code",
      "metadata": {
        "id": "x9YdAs2nLhGU"
      },
      "source": [
        "from sklearn.ensemble import AdaBoostRegressor\n",
        "\n",
        "adab = AdaBoostRegressor(random_state=13)\n",
        "adab_fit = adab.fit(X_train, y_train)\n",
        "y_pred_adab = adab.predict(X_test)"
      ],
      "execution_count": null,
      "outputs": []
    },
    {
      "cell_type": "code",
      "metadata": {
        "colab": {
          "base_uri": "https://localhost:8080/"
        },
        "id": "AbQRkMfd6V4V",
        "outputId": "0af70f7e-54d4-4778-a499-bb2dc856b791"
      },
      "source": [
        "print('AdaBoost Regression performance result')\n",
        "print('--------------------------------------------')\n",
        "print('r2 score :', r2_score(y_test,y_pred_adab))\n",
        "print('MAE score :',mean_absolute_error(y_test,y_pred_adab))\n",
        "print('RMSE score :',np.sqrt(mean_squared_error(y_test,y_pred_adab)))"
      ],
      "execution_count": null,
      "outputs": [
        {
          "output_type": "stream",
          "name": "stdout",
          "text": [
            "AdaBoost Regression performance result\n",
            "--------------------------------------------\n",
            "r2 score : 0.9168099401732435\n",
            "MAE score : 27.045350645957686\n",
            "RMSE score : 34.08511302234777\n"
          ]
        }
      ]
    },
    {
      "cell_type": "code",
      "metadata": {
        "colab": {
          "base_uri": "https://localhost:8080/"
        },
        "id": "gP4_DEhX78pV",
        "outputId": "1b46c65d-6000-4847-d72b-7b87d4433038"
      },
      "source": [
        "adab.estimators_"
      ],
      "execution_count": null,
      "outputs": [
        {
          "output_type": "execute_result",
          "data": {
            "text/plain": [
              "[DecisionTreeRegressor(max_depth=3, random_state=1192722770),\n",
              " DecisionTreeRegressor(max_depth=3, random_state=293509224),\n",
              " DecisionTreeRegressor(max_depth=3, random_state=771045029),\n",
              " DecisionTreeRegressor(max_depth=3, random_state=2045636143),\n",
              " DecisionTreeRegressor(max_depth=3, random_state=321799632),\n",
              " DecisionTreeRegressor(max_depth=3, random_state=47574009),\n",
              " DecisionTreeRegressor(max_depth=3, random_state=1118395431),\n",
              " DecisionTreeRegressor(max_depth=3, random_state=1386800205),\n",
              " DecisionTreeRegressor(max_depth=3, random_state=1552036386),\n",
              " DecisionTreeRegressor(max_depth=3, random_state=18509065),\n",
              " DecisionTreeRegressor(max_depth=3, random_state=293135913),\n",
              " DecisionTreeRegressor(max_depth=3, random_state=610298250),\n",
              " DecisionTreeRegressor(max_depth=3, random_state=1246155911),\n",
              " DecisionTreeRegressor(max_depth=3, random_state=417463482),\n",
              " DecisionTreeRegressor(max_depth=3, random_state=445335166),\n",
              " DecisionTreeRegressor(max_depth=3, random_state=478010109),\n",
              " DecisionTreeRegressor(max_depth=3, random_state=1770054858),\n",
              " DecisionTreeRegressor(max_depth=3, random_state=1641571687),\n",
              " DecisionTreeRegressor(max_depth=3, random_state=291110592),\n",
              " DecisionTreeRegressor(max_depth=3, random_state=1916790698),\n",
              " DecisionTreeRegressor(max_depth=3, random_state=201177219),\n",
              " DecisionTreeRegressor(max_depth=3, random_state=1828866908),\n",
              " DecisionTreeRegressor(max_depth=3, random_state=1979261270),\n",
              " DecisionTreeRegressor(max_depth=3, random_state=1048308879),\n",
              " DecisionTreeRegressor(max_depth=3, random_state=860773329),\n",
              " DecisionTreeRegressor(max_depth=3, random_state=1195835874),\n",
              " DecisionTreeRegressor(max_depth=3, random_state=518563424),\n",
              " DecisionTreeRegressor(max_depth=3, random_state=1563781951),\n",
              " DecisionTreeRegressor(max_depth=3, random_state=1391868253),\n",
              " DecisionTreeRegressor(max_depth=3, random_state=1321308523),\n",
              " DecisionTreeRegressor(max_depth=3, random_state=608878397),\n",
              " DecisionTreeRegressor(max_depth=3, random_state=1369067241)]"
            ]
          },
          "metadata": {},
          "execution_count": 24
        }
      ]
    },
    {
      "cell_type": "code",
      "metadata": {
        "colab": {
          "base_uri": "https://localhost:8080/",
          "height": 313
        },
        "id": "vm1TJJYOb2AA",
        "outputId": "239efe6d-8fca-48fb-868c-d82b51e98ca5"
      },
      "source": [
        "feature_imp = pd.Series(adab.feature_importances_, index=X.columns).sort_values(ascending=False)\n",
        "\n",
        "import seaborn as sns\n",
        "import matplotlib.pyplot as plt\n",
        "%matplotlib inline\n",
        "\n",
        "sns.barplot(x=feature_imp, y=feature_imp.index)\n",
        "\n",
        "plt.xlabel('Feature Importance Score')\n",
        "plt.ylabel('Features')\n",
        "plt.title(\"Visualizing Important Features\")\n",
        "plt.legend()\n",
        "plt.show()"
      ],
      "execution_count": null,
      "outputs": [
        {
          "output_type": "stream",
          "name": "stderr",
          "text": [
            "No handles with labels found to put in legend.\n"
          ]
        },
        {
          "output_type": "display_data",
          "data": {
            "image/png": "[encoded data removed]",
            "text/plain": [
              "<Figure size 432x288 with 1 Axes>"
            ]
          },
          "metadata": {
            "needs_background": "light"
          }
        }
      ]
    },
    {
      "cell_type": "markdown",
      "metadata": {
        "id": "JiF33LZ9_TbJ"
      },
      "source": [
        "# XGB Regression"
      ]
    },
    {
      "cell_type": "code",
      "metadata": {
        "colab": {
          "base_uri": "https://localhost:8080/"
        },
        "id": "tatkvR1Vb6KH",
        "outputId": "09873e6c-0c8d-4de1-87f2-2228cd6ffbbc"
      },
      "source": [
        "from xgboost import XGBRegressor\n",
        "xgb = XGBRegressor(randomstate=13)\n",
        "xgb.fit(X_train, y_train)\n",
        "y_pred_xgb = xgb.predict(X_test)"
      ],
      "execution_count": null,
      "outputs": [
        {
          "output_type": "stream",
          "name": "stdout",
          "text": [
            "[15:32:33] WARNING: /workspace/src/objective/regression_obj.cu:152: reg:linear is now deprecated in favor of reg:squarederror.\n"
          ]
        }
      ]
    },
    {
      "cell_type": "code",
      "metadata": {
        "colab": {
          "base_uri": "https://localhost:8080/"
        },
        "id": "90k5iXtq6TSp",
        "outputId": "8be208b6-b65f-4045-9c4a-e71a949c53ae"
      },
      "source": [
        "print('XGB Regression performance result')\n",
        "print('--------------------------------------------')\n",
        "print('r2 score :', r2_score(y_test,y_pred_xgb))\n",
        "print('MAE score :',mean_absolute_error(y_test,y_pred_xgb))\n",
        "print('RMSE score :',np.sqrt(mean_squared_error(y_test,y_pred_xgb)))"
      ],
      "execution_count": null,
      "outputs": [
        {
          "output_type": "stream",
          "name": "stdout",
          "text": [
            "XGB Regression performance result\n",
            "--------------------------------------------\n",
            "r2 score : 0.993290642555953\n",
            "MAE score : 5.876625236481665\n",
            "RMSE score : 9.67986911195803\n"
          ]
        }
      ]
    },
    {
      "cell_type": "code",
      "metadata": {
        "colab": {
          "base_uri": "https://localhost:8080/",
          "height": 313
        },
        "id": "GCzOhLbob_LI",
        "outputId": "2dc770fa-0afd-4887-adcf-aec546d83047"
      },
      "source": [
        "feature_imp = pd.Series(xgb.feature_importances_, index=X.columns).sort_values(ascending=False)\n",
        "\n",
        "import seaborn as sns\n",
        "import matplotlib.pyplot as plt\n",
        "%matplotlib inline\n",
        "\n",
        "sns.barplot(x=feature_imp, y=feature_imp.index)\n",
        "\n",
        "plt.xlabel('Feature Importance Score')\n",
        "plt.ylabel('Features')\n",
        "plt.title(\"Visualizing Important Features\")\n",
        "plt.legend()\n",
        "plt.show()"
      ],
      "execution_count": null,
      "outputs": [
        {
          "output_type": "stream",
          "name": "stderr",
          "text": [
            "No handles with labels found to put in legend.\n"
          ]
        },
        {
          "output_type": "display_data",
          "data": {
            "image/png": "[encoded data removed]",
            "text/plain": [
              "<Figure size 432x288 with 1 Axes>"
            ]
          },
          "metadata": {
            "needs_background": "light"
          }
        }
      ]
    },
    {
      "cell_type": "markdown",
      "source": [
        "validation"
      ],
      "metadata": {
        "id": "0S8aMuK3KVps"
      }
    },
    {
      "cell_type": "code",
      "source": [
        "y_val_xgb = xgb.predict(X_val)\n",
        "r2_score(y_val, y_val_xgb)"
      ],
      "metadata": {
        "colab": {
          "base_uri": "https://localhost:8080/"
        },
        "id": "TBCYk47c5TnP",
        "outputId": "5e21f88c-38df-46e6-b3f2-6675db3731a8"
      },
      "execution_count": null,
      "outputs": [
        {
          "output_type": "execute_result",
          "data": {
            "text/plain": [
              "0.9927757723804366"
            ]
          },
          "metadata": {},
          "execution_count": 35
        }
      ]
    },
    {
      "cell_type": "markdown",
      "source": [
        "sample test"
      ],
      "metadata": {
        "id": "LqZ9IqSAKYRD"
      }
    },
    {
      "cell_type": "code",
      "source": [
        "path='/content/drive/MyDrive/2021-2 AI&SE/AI/dataset/test1.csv'\n",
        "test_data = pd.read_csv(path)\n",
        "test_data.info()"
      ],
      "metadata": {
        "colab": {
          "base_uri": "https://localhost:8080/"
        },
        "id": "INQEocL_2FPj",
        "outputId": "f52e051e-dbd7-4219-d9e4-487ba44c83c4"
      },
      "execution_count": null,
      "outputs": [
        {
          "output_type": "stream",
          "name": "stdout",
          "text": [
            "<class 'pandas.core.frame.DataFrame'>\n",
            "RangeIndex: 1 entries, 0 to 0\n",
            "Data columns (total 8 columns):\n",
            " #   Column           Non-Null Count  Dtype\n",
            "---  ------           --------------  -----\n",
            " 0   gender           1 non-null      int64\n",
            " 1   age              1 non-null      int64\n",
            " 2   occupation       1 non-null      int64\n",
            " 3   shower duration  1 non-null      int64\n",
            " 4   sleeping time    1 non-null      int64\n",
            " 5   shower time      1 non-null      int64\n",
            " 6   month            1 non-null      int64\n",
            " 7   temperature      1 non-null      int64\n",
            "dtypes: int64(8)\n",
            "memory usage: 192.0 bytes\n"
          ]
        }
      ]
    },
    {
      "cell_type": "code",
      "source": [
        "test_data = scaler.transform(test_data)"
      ],
      "metadata": {
        "id": "otZS4nsz5-8t"
      },
      "execution_count": null,
      "outputs": []
    },
    {
      "cell_type": "code",
      "source": [
        "result=xgb.predict(test_data)"
      ],
      "metadata": {
        "id": "kKXxual24REu"
      },
      "execution_count": null,
      "outputs": []
    },
    {
      "cell_type": "markdown",
      "metadata": {
        "id": "nDs8VS9a_x44"
      },
      "source": [
        "# LGBM Regression"
      ]
    },
    {
      "cell_type": "code",
      "metadata": {
        "id": "0-c5NNyf_0kP"
      },
      "source": [
        "from lightgbm import LGBMRegressor\n",
        "lgbm = LGBMRegressor(random_state = 13)\n",
        "lgbm.fit(X_train, y_train)\n",
        "y_pred_lgbm = lgbm.predict(X_test)"
      ],
      "execution_count": null,
      "outputs": []
    },
    {
      "cell_type": "code",
      "metadata": {
        "colab": {
          "base_uri": "https://localhost:8080/"
        },
        "id": "9aezLaywANEb",
        "outputId": "26f8bf63-d40e-4ecb-929a-4adcb116a007"
      },
      "source": [
        "print('LGBM Regression performance result')\n",
        "print('--------------------------------------------')\n",
        "print('r2 score :', r2_score(y_test,y_pred_lgbm))\n",
        "print('MAE score :',mean_absolute_error(y_test,y_pred_lgbm))\n",
        "print('RMSE score :',np.sqrt(mean_squared_error(y_test,y_pred_lgbm)))"
      ],
      "execution_count": null,
      "outputs": [
        {
          "output_type": "stream",
          "name": "stdout",
          "text": [
            "LGBM Regression performance result\n",
            "--------------------------------------------\n",
            "r2 score : 0.9999990470818714\n",
            "MAE score : 0.07450701112463899\n",
            "RMSE score : 0.11536041632356944\n"
          ]
        }
      ]
    },
    {
      "cell_type": "markdown",
      "metadata": {
        "id": "HHk2ZhjcZLXt"
      },
      "source": [
        "# HistGradientBoosting Regression"
      ]
    },
    {
      "cell_type": "code",
      "metadata": {
        "id": "iQy2tz73cBGr",
        "colab": {
          "base_uri": "https://localhost:8080/"
        },
        "outputId": "28ca83f8-808d-48a0-ef6f-1e1a3080cc30"
      },
      "source": [
        "from sklearn.experimental import enable_hist_gradient_boosting\n",
        "from sklearn.ensemble import HistGradientBoostingRegressor\n",
        "hgb = HistGradientBoostingRegressor(random_state=13)\n",
        "hgb.fit(X_train, y_train)\n",
        "y_pred_hgb = hgb.predict(X_test)"
      ],
      "execution_count": null,
      "outputs": [
        {
          "output_type": "stream",
          "name": "stderr",
          "text": [
            "/usr/local/lib/python3.7/dist-packages/sklearn/experimental/enable_hist_gradient_boosting.py:17: UserWarning: Since version 1.0, it is not needed to import enable_hist_gradient_boosting anymore. HistGradientBoostingClassifier and HistGradientBoostingRegressor are now stable and can be normally imported from sklearn.ensemble.\n",
            "  \"Since version 1.0, \"\n"
          ]
        }
      ]
    },
    {
      "cell_type": "code",
      "metadata": {
        "colab": {
          "base_uri": "https://localhost:8080/"
        },
        "id": "gLtu_DCBCR9S",
        "outputId": "f9cc2f3a-6ad3-4aa2-bdd3-e516da0bcf09"
      },
      "source": [
        "print('HistGradientBoosting Regression performance result')\n",
        "print('--------------------------------------------')\n",
        "print('r2 score :', r2_score(y_test,y_pred_hgb))\n",
        "print('MAE score :',mean_absolute_error(y_test,y_pred_hgb))\n",
        "print('RMSE score :',np.sqrt(mean_squared_error(y_test,y_pred_hgb)))"
      ],
      "execution_count": null,
      "outputs": [
        {
          "output_type": "stream",
          "name": "stdout",
          "text": [
            "HistGradientBoosting Regression performance result\n",
            "--------------------------------------------\n",
            "r2 score : 0.9999988930499437\n",
            "MAE score : 0.08028555215065038\n",
            "RMSE score : 0.12433489543380788\n"
          ]
        }
      ]
    },
    {
      "cell_type": "code",
      "metadata": {
        "id": "9RjA61VMcCWQ",
        "colab": {
          "base_uri": "https://localhost:8080/"
        },
        "outputId": "cab630aa-9f7b-43ba-b1fd-480e481ecf5b"
      },
      "source": [
        "from sklearn.inspection import permutation_importance\n",
        "result = permutation_importance(hgb, X_train, y_train, n_repeats=20, random_state=13)\n",
        "result.importances_mean"
      ],
      "execution_count": null,
      "outputs": [
        {
          "output_type": "execute_result",
          "data": {
            "text/plain": [
              "array([4.66865833e-01, 3.74033959e-01, 6.12470068e-07, 7.94953578e-01,\n",
              "       9.21139395e-01, 1.77969384e-06, 3.96778019e-08, 2.24157315e-06])"
            ]
          },
          "metadata": {},
          "execution_count": 30
        }
      ]
    },
    {
      "cell_type": "code",
      "metadata": {
        "id": "iQU9ed1NcEpH",
        "colab": {
          "base_uri": "https://localhost:8080/"
        },
        "outputId": "5ee0fdfe-49e3-49bf-8728-94a7984c2c47"
      },
      "source": [
        "permutation_importance = pd.Series(result.importances_mean, index=X.columns).sort_values(ascending=False)\n",
        "\n",
        "import seaborn as sns\n",
        "import matplotlib.pyplot as plt\n",
        "%matplotlib inline\n",
        "\n",
        "sns.barplot(x=permutation_importance, y=permutation_importance.index)\n",
        "\n",
        "plt.xlabel('permutation_importance')\n",
        "plt.ylabel('Features')\n",
        "plt.title(\"Visualizing Important Features\")\n",
        "plt.legend()\n",
        "plt.show()"
      ],
      "execution_count": null,
      "outputs": [
        {
          "output_type": "stream",
          "name": "stderr",
          "text": [
            "No handles with labels found to put in legend.\n"
          ]
        },
        {
          "output_type": "display_data",
          "data": {
            "image/png": "[encoded data removed]",
            "text/plain": [
              "<Figure size 432x288 with 1 Axes>"
            ]
          },
          "metadata": {
            "needs_background": "light"
          }
        }
      ]
    }
  ]
}